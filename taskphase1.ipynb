{
 "cells": [
  {
   "cell_type": "code",
   "execution_count": 1,
   "metadata": {},
   "outputs": [],
   "source": [
    "import pandas as pd\n",
    "import numpy as np\n",
    "import matplotlib.pyplot as plt\n",
    "import seaborn as sns"
   ]
  },
  {
   "cell_type": "code",
   "execution_count": 2,
   "metadata": {},
   "outputs": [],
   "source": [
    "df=pd.read_csv('WA_Fn-UseC_-Telco-Customer-Churn.csv')"
   ]
  },
  {
   "cell_type": "code",
   "execution_count": 3,
   "metadata": {},
   "outputs": [],
   "source": [
    "df.head(10)"
   ]
  },
  {
   "cell_type": "code",
   "execution_count": 4,
   "metadata": {},
   "outputs": [],
   "source": [
    "df.isnull().sum()\n",
    "df.info()"
   ]
  },
  {
   "cell_type": "code",
   "execution_count": 5,
   "metadata": {},
   "outputs": [],
   "source": [
    "df['TotalCharges'] = pd.to_numeric(df['TotalCharges'], errors = 'coerce')\n",
    "df.info()\n",
    "# Missing values in total charges"
   ]
  },
  {
   "cell_type": "code",
   "execution_count": 6,
   "metadata": {},
   "outputs": [],
   "source": [
    "# Total charges = Monthly charges * Tenure\n",
    "df['TotalCharges'].fillna(df['MonthlyCharges']*df['tenure'], inplace=True)\n",
    "df.info()"
   ]
  },
  {
   "cell_type": "code",
   "execution_count": 7,
   "metadata": {},
   "outputs": [],
   "source": [
    "print(\"NO OF CUSTOMERS: \",df['customerID'].nunique())\n",
    "print(\"NO OF MALE CUST: \",df['gender'].value_counts()[0])\n",
    "print(\"NO OF FEMALE CUST : \",df['gender'].value_counts()[1])\n",
    "print(\"NO OF SENIOR CUSTOMERS: \",df['SeniorCitizen'].value_counts()[1])"
   ]
  },
  {
   "cell_type": "code",
   "execution_count": 8,
   "metadata": {},
   "outputs": [],
   "source": [
    "df.sort_values('TotalCharges')"
   ]
  },
  {
   "cell_type": "code",
   "execution_count": 9,
   "metadata": {},
   "outputs": [],
   "source": [
    "df.columns"
   ]
  },
  {
   "cell_type": "code",
   "execution_count": 10,
   "metadata": {},
   "outputs": [],
   "source": [
    "for i in df.columns[1:]:\n",
    "    if i not in ['tenure','MonthlyCharges','TotalCharges']:\n",
    "        print(i,df[i].unique())"
   ]
  },
  {
   "cell_type": "code",
   "execution_count": 11,
   "metadata": {},
   "outputs": [],
   "source": [
    "df.describe()['TotalCharges']"
   ]
  },
  {
   "cell_type": "code",
   "execution_count": 12,
   "metadata": {},
   "outputs": [],
   "source": [
    "df.describe()['MonthlyCharges']"
   ]
  },
  {
   "cell_type": "code",
   "execution_count": 13,
   "metadata": {},
   "outputs": [],
   "source": [
    "custvstot=df.groupby('customerID')[['MonthlyCharges']].sum().sort_values(by=['MonthlyCharges'],ascending=False).head(10)\n",
    "custvstot"
   ]
  },
  {
   "cell_type": "code",
   "execution_count": 14,
   "metadata": {},
   "outputs": [],
   "source": [
    "df['tenure'].max()"
   ]
  },
  {
   "cell_type": "code",
   "execution_count": 15,
   "metadata": {},
   "outputs": [],
   "source": [
    "#sns.distplot(df['TotalCharges'], color='g', bins=100, hist_kws={'alpha': 0.4});"
   ]
  },
  {
   "cell_type": "code",
   "execution_count": 16,
   "metadata": {},
   "outputs": [],
   "source": [
    "df.SeniorCitizen.value_counts().plot(kind='bar')\n",
    "plt.title('SENIOR CITIZENS')\n",
    "plt.ylabel('COUNT')\n",
    "plt.xlabel('YES - 1  NO - 0')"
   ]
  },
  {
   "cell_type": "code",
   "execution_count": 17,
   "metadata": {},
   "outputs": [],
   "source": [
    "df.Partner.value_counts().plot(kind='bar')\n",
    "plt.title('COUNT OF PARTNER/NON PARTNER')"
   ]
  },
  {
   "cell_type": "code",
   "execution_count": 18,
   "metadata": {},
   "outputs": [],
   "source": [
    "fig,axs=plt.subplots(1,2)\n",
    "df.MultipleLines.value_counts().plot(kind='bar',ax=axs[0])\n",
    "df.MultipleLines.value_counts().plot(kind='pie',ax=axs[1])"
   ]
  },
  {
   "cell_type": "code",
   "execution_count": 19,
   "metadata": {},
   "outputs": [],
   "source": [
    "df['MonthlyCharges'].plot(kind='kde')"
   ]
  },
  {
   "cell_type": "code",
   "execution_count": 20,
   "metadata": {},
   "outputs": [],
   "source": [
    "fig,axs=plt.subplots(1,2)\n",
    "df.InternetService.value_counts().plot(kind='bar',ax=axs[0])\n",
    "df.InternetService.value_counts().plot(kind='pie',ax=axs[1])"
   ]
  },
  {
   "cell_type": "code",
   "execution_count": 21,
   "metadata": {},
   "outputs": [],
   "source": [
    "fig,axs=plt.subplots(1,2)\n",
    "df.PaymentMethod.value_counts().plot(kind='bar',ax=axs[0],figsize=(16,6))\n",
    "df.PaymentMethod.value_counts().plot(kind='pie',ax=axs[1])"
   ]
  },
  {
   "cell_type": "code",
   "execution_count": 22,
   "metadata": {},
   "outputs": [],
   "source": [
    "fig,axs=plt.subplots(1,2)\n",
    "df.Contract.value_counts().plot(kind='bar',ax=axs[0])\n",
    "df.Contract.value_counts().plot(kind='pie',ax=axs[1])"
   ]
  },
  {
   "cell_type": "code",
   "execution_count": 23,
   "metadata": {},
   "outputs": [],
   "source": [
    "df.Churn.value_counts(normalize=True).plot(kind='bar')"
   ]
  },
  {
   "cell_type": "code",
   "execution_count": 24,
   "metadata": {},
   "outputs": [],
   "source": [
    "print(df.groupby('Churn')['gender'].value_counts())\n",
    "df.groupby('Churn')['gender'].value_counts().plot(kind='pie',figsize=(8,6))"
   ]
  },
  {
   "cell_type": "code",
   "execution_count": 25,
   "metadata": {},
   "outputs": [],
   "source": [
    "print(df.groupby('Churn')['PhoneService'].value_counts().plot(kind='bar'))\n",
    "print(df.groupby('Churn')['PhoneService'].value_counts())\n",
    "k=(df.groupby('Churn')['PhoneService'].value_counts()['Yes']['Yes'])*100/(df.groupby('Churn')['PhoneService'].value_counts()['No']['Yes']+df.groupby('Churn')['PhoneService'].value_counts()['Yes']['Yes'])\n",
    "print('% churn without PhoneService = ',100-k)"
   ]
  },
  {
   "cell_type": "code",
   "execution_count": 26,
   "metadata": {},
   "outputs": [],
   "source": [
    "print(df.groupby('Churn')['Dependents'].value_counts().plot(kind='bar'))\n",
    "print(df.groupby('Churn')['Dependents'].value_counts())\n",
    "k=(df.groupby('Churn')['Dependents'].value_counts()['Yes']['Yes'])*100/(df.groupby('Churn')['Dependents'].value_counts()['No']['Yes']+df.groupby('Churn')['Dependents'].value_counts()['Yes']['Yes'])\n",
    "print('% Dependents that stay after 1 month = ',100-k)"
   ]
  },
  {
   "cell_type": "code",
   "execution_count": 27,
   "metadata": {},
   "outputs": [],
   "source": [
    "print(df.groupby('Churn')['InternetService'].value_counts().plot(kind='bar'))\n",
    "print(df.groupby('Churn')['InternetService'].value_counts())"
   ]
  },
  {
   "cell_type": "code",
   "execution_count": 28,
   "metadata": {},
   "outputs": [],
   "source": [
    "\n",
    "k=(df.groupby('Churn')['Partner'].value_counts()['Yes']['Yes'])*100/(df.groupby('Churn')['Partner'].value_counts()['No']['Yes'])\n",
    "print('% Partners that stay after 1 month = ',100-k)"
   ]
  },
  {
   "cell_type": "code",
   "execution_count": 29,
   "metadata": {},
   "outputs": [],
   "source": [
    "df.groupby('Partner')['tenure'].plot(kind='kde')\n",
    "plt.legend()"
   ]
  },
  {
   "cell_type": "code",
   "execution_count": 30,
   "metadata": {},
   "outputs": [],
   "source": [
    "print(df.groupby('Churn')['TechSupport'].value_counts().plot(kind='bar'))\n",
    "print(df.groupby('Churn')['TechSupport'].value_counts())"
   ]
  },
  {
   "cell_type": "code",
   "execution_count": 31,
   "metadata": {},
   "outputs": [],
   "source": [
    "print(df.groupby('Churn')['Contract'].value_counts().plot(kind='pie'))\n",
    "#print(df.groupby('Churn')['Contract'].value_counts()['Yes'].plot(kind='bar'))\n",
    "#print(df.groupby('Churn')['Contract'].value_counts()['No'].plot(kind='bar'))\n",
    "print(df.groupby('Churn')['Contract'].value_counts())"
   ]
  },
  {
   "cell_type": "code",
   "execution_count": 32,
   "metadata": {},
   "outputs": [],
   "source": [
    "print(df.where(df['Churn']=='Yes')['MonthlyCharges'].median())\n",
    "print(df.where(df['Churn']=='No')['MonthlyCharges'].median())"
   ]
  }
 ],
 "metadata": {},
 "nbformat": 4,
 "nbformat_minor": 2
}
